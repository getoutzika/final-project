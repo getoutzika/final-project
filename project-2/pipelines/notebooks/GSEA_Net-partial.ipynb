{
 "cells": [
  {
   "cell_type": "code",
   "execution_count": 86,
   "id": "ad8710c5-bcbb-448c-80a2-44edd84575e9",
   "metadata": {},
   "outputs": [],
   "source": [
    "import pandas as pd\n",
    "import gseapy as gp\n",
    "import networkx as nx\n",
    "import math\n",
    "\n",
    "from itertools import chain, repeat"
   ]
  },
  {
   "cell_type": "markdown",
   "id": "02ff1247-d711-407f-8ca7-692bfb2a7e9e",
   "metadata": {},
   "source": [
    "1.\tRealizar a análise de enriquecimento usando o método GSEA"
   ]
  },
  {
   "cell_type": "code",
   "execution_count": 87,
   "id": "dde22a8a",
   "metadata": {},
   "outputs": [],
   "source": [
    "PATH_EXTERNAL_DATA = '../data/external/'\n",
    "PATH_INTERIM_DATA = '../data/interim/'\n",
    "PATH_PROCESSED_DATA = '../data/processed/'\n",
    "PATH_RAW_DATA = '../data/raw/'"
   ]
  },
  {
   "cell_type": "code",
   "execution_count": 93,
   "id": "d2f2f370",
   "metadata": {},
   "outputs": [],
   "source": [
    "files = [#['ZIKV_POL_vs_CTRL_24hpi', 'ZIKV_UGD_vs_CTRL_24hpi', 'ZIKV_all_genes_24hpi'],\n",
    "         #['ZIKV_POL_vs_CTRL_48hpi', 'ZIKV_UGD_vs_CTRL_48hpi', 'ZIKV_all_genes_48hpi'],\n",
    "         ['ZIKV_POL_vs_CTRL_72hpi', 'ZIKV_UGD_vs_CTRL_72hpi', 'ZIKV_all_genes_72hpi']]\n",
    "\n",
    "for flist in files:\n",
    "    ZIKV_POL_vs_CTRL = pd.read_csv(PATH_RAW_DATA + flist[0] + '.tsv', sep='\\t')\n",
    "    ZIKV_UGD_vs_CTRL = pd.read_csv(PATH_RAW_DATA + flist[1] + '.tsv', sep='\\t')\n",
    "    ZIKV_all_genes = pd.read_csv(PATH_RAW_DATA + flist[2] + '.tsv', sep='\\t')\n"
   ]
  },
  {
   "cell_type": "code",
   "execution_count": 94,
   "id": "33944721",
   "metadata": {},
   "outputs": [],
   "source": [
    "ZIKV_POL_vs_CTRL.rename(columns={\"log2(fold change)\": \"log2FoldChange\"}, inplace=True)\n",
    "ZIKV_UGD_vs_CTRL.rename(columns={\"log2(fold change)\": \"log2FoldChange\"}, inplace=True)\n",
    "ZIKV_all_genes.rename(columns={\"GENE_SYMBOL\": \"Gene_name\"}, inplace=True)\n",
    "\n",
    "ZIKV_POL_vs_CTRL_genes = pd.merge(ZIKV_POL_vs_CTRL, ZIKV_all_genes, on=[\"ID\"])\n",
    "ZIKV_UGD_vs_CTRL_genes = pd.merge(ZIKV_UGD_vs_CTRL, ZIKV_all_genes, on=[\"ID\"])"
   ]
  },
  {
   "cell_type": "code",
   "execution_count": 95,
   "id": "41cda84a",
   "metadata": {},
   "outputs": [],
   "source": [
    "ZIKV_POL_vs_CTRL_genes = ZIKV_POL_vs_CTRL_genes[['Gene_name', 'log2FoldChange']]\n",
    "ZIKV_POL_vs_CTRL_genes = ZIKV_POL_vs_CTRL_genes[~ZIKV_POL_vs_CTRL_genes['Gene_name'].isna()]\n",
    "\n",
    "ZIKV_UGD_vs_CTRL_genes = ZIKV_UGD_vs_CTRL_genes[['Gene_name', 'log2FoldChange']]\n",
    "ZIKV_UGD_vs_CTRL_genes = ZIKV_UGD_vs_CTRL_genes[~ZIKV_UGD_vs_CTRL_genes['Gene_name'].isna()]"
   ]
  },
  {
   "cell_type": "code",
   "execution_count": null,
   "id": "4d69f109",
   "metadata": {},
   "outputs": [],
   "source": [
    "down = ZIKV_POL_vs_CTRL_72hpi_genes\n",
    "down"
   ]
  },
  {
   "cell_type": "code",
   "execution_count": null,
   "id": "bf35b219-4873-4806-997d-c68c5bc746da",
   "metadata": {},
   "outputs": [],
   "source": [
    "# Podemos ver os \"gene sets\" que estão incluídos no gseapy. Alguns deles não estão atualizados\n",
    "# Portanto, nesta tarefa vamos usar um arquivo gmt baixado do MSigDB (https://www.gsea-msigdb.org/gsea/msigdb/)\n",
    "#gp.get_library_name()[:10]"
   ]
  },
  {
   "cell_type": "code",
   "execution_count": 56,
   "id": "b1f1079a",
   "metadata": {},
   "outputs": [
    {
     "data": {
      "text/html": [
       "<div>\n",
       "<style scoped>\n",
       "    .dataframe tbody tr th:only-of-type {\n",
       "        vertical-align: middle;\n",
       "    }\n",
       "\n",
       "    .dataframe tbody tr th {\n",
       "        vertical-align: top;\n",
       "    }\n",
       "\n",
       "    .dataframe thead th {\n",
       "        text-align: right;\n",
       "    }\n",
       "</style>\n",
       "<table border=\"1\" class=\"dataframe\">\n",
       "  <thead>\n",
       "    <tr style=\"text-align: right;\">\n",
       "      <th></th>\n",
       "      <th>Gene_name</th>\n",
       "      <th>log2FoldChange</th>\n",
       "    </tr>\n",
       "  </thead>\n",
       "  <tbody>\n",
       "    <tr>\n",
       "      <th>0</th>\n",
       "      <td>XLOC_l2_015098</td>\n",
       "      <td>1.352</td>\n",
       "    </tr>\n",
       "    <tr>\n",
       "      <th>1</th>\n",
       "      <td>LOC100507165</td>\n",
       "      <td>1.600</td>\n",
       "    </tr>\n",
       "    <tr>\n",
       "      <th>2</th>\n",
       "      <td>FLJ35024</td>\n",
       "      <td>1.192</td>\n",
       "    </tr>\n",
       "    <tr>\n",
       "      <th>3</th>\n",
       "      <td>XLOC_007868</td>\n",
       "      <td>0.576</td>\n",
       "    </tr>\n",
       "    <tr>\n",
       "      <th>4</th>\n",
       "      <td>LOC388796</td>\n",
       "      <td>0.713</td>\n",
       "    </tr>\n",
       "    <tr>\n",
       "      <th>...</th>\n",
       "      <td>...</td>\n",
       "      <td>...</td>\n",
       "    </tr>\n",
       "    <tr>\n",
       "      <th>871</th>\n",
       "      <td>LOC338653</td>\n",
       "      <td>0.844</td>\n",
       "    </tr>\n",
       "    <tr>\n",
       "      <th>872</th>\n",
       "      <td>LOC338620</td>\n",
       "      <td>-0.490</td>\n",
       "    </tr>\n",
       "    <tr>\n",
       "      <th>873</th>\n",
       "      <td>DKFZp451B082</td>\n",
       "      <td>1.873</td>\n",
       "    </tr>\n",
       "    <tr>\n",
       "      <th>874</th>\n",
       "      <td>JAK2</td>\n",
       "      <td>0.503</td>\n",
       "    </tr>\n",
       "    <tr>\n",
       "      <th>875</th>\n",
       "      <td>KCNT2</td>\n",
       "      <td>0.861</td>\n",
       "    </tr>\n",
       "  </tbody>\n",
       "</table>\n",
       "<p>833 rows × 2 columns</p>\n",
       "</div>"
      ],
      "text/plain": [
       "          Gene_name  log2FoldChange\n",
       "0    XLOC_l2_015098           1.352\n",
       "1      LOC100507165           1.600\n",
       "2          FLJ35024           1.192\n",
       "3       XLOC_007868           0.576\n",
       "4         LOC388796           0.713\n",
       "..              ...             ...\n",
       "871       LOC338653           0.844\n",
       "872       LOC338620          -0.490\n",
       "873    DKFZp451B082           1.873\n",
       "874            JAK2           0.503\n",
       "875           KCNT2           0.861\n",
       "\n",
       "[833 rows x 2 columns]"
      ]
     },
     "execution_count": 56,
     "metadata": {},
     "output_type": "execute_result"
    }
   ],
   "source": [
    "\n",
    "down"
   ]
  },
  {
   "cell_type": "code",
   "execution_count": null,
   "id": "107ee85b",
   "metadata": {},
   "outputs": [],
   "source": [
    "# Gene Set Enrichment Analysis\n",
    "\n",
    "def proceed_enrichment(down):\n",
    "\n",
    "    # Executar a análise de enriquecimento\n",
    "    # O Enrichr usa o Fisher exact test\n",
    "    #del enrichr_down\n",
    "    enr = gp.enrichr(gene_list=down.Gene_name, gene_sets=[PATH_EXTERNAL_DATA + 'gene_sets_GOBP.gmt'], outdir=None) \n",
    "\n",
    "    #enr = gp.enrichr(gene_list=down.Gene_name,gene_sets=['Reactome_2022', \"h.all.v2023.2.Hs.symbols.gmt\"], outdir=None) # Para usar a versão do mesmo arquivo gmt do gseapy.get_library_name()\n",
    "    #resultado da análise\n",
    "    enrichr_down = enr.results\n",
    "    enrichr_down.head()\n",
    "    enrichr_down.shape\n",
    "\n",
    "    # somente os resultados estatisticamente significativos\n",
    "    enrichr_down = enrichr_down[enrichr_down[\"Adjusted P-value\"]<0.05]\n",
    "\n",
    "    enrichr_down.reset_index(drop=True, inplace=True)\n",
    "    enrichr_down\n",
    "    enrichr_down.shape\n",
    "\n",
    "    type(enrichr_down)\n",
    "\n",
    "    pd.options.mode.chained_assignment = None # disable the warning\n",
    "    enrichr_down.replace('GOBP_', '', regex=True, inplace=True)\n",
    "    enrichr_down.replace('_', ' ', regex=True, inplace=True)\n",
    "    enrichr_down\n",
    "\n",
    "    # A coluna Genes indica os genes associados com as vias\n",
    "    # Vamos passar essa informação para um DataFrame com duas colunas (uma via ==> um gene)\n",
    "    pathways = {}\n",
    "\n",
    "    for ind in enrichr_down.index:\n",
    "        \n",
    "        path = enrichr_down.iloc[ind, 1]\n",
    "        genes = enrichr_down.loc[ind, \"Genes\"]\n",
    "\n",
    "        genes = genes.strip().split(\";\")\n",
    "\n",
    "        pathways[path] = genes\n",
    "\n",
    "        #if len(genes) < 5:\n",
    "            \n",
    "            #break\n",
    "        #else:\n",
    "            #pathways[path] = genes\n",
    "\n",
    "        df = pd.DataFrame.from_records(\n",
    "            chain.from_iterable(zip(repeat(k), v) for k, v in pathways.items()),\n",
    "            columns=[\"geneset\", \"genesymbol\"],\n",
    "        )    \n",
    "\n",
    "    df.head()\n",
    "    df.shape"
   ]
  },
  {
   "cell_type": "markdown",
   "id": "15120ea2-05f3-42a4-9bce-79674751f38a",
   "metadata": {},
   "source": [
    "2. rede das vias enriquecidas"
   ]
  },
  {
   "cell_type": "code",
   "execution_count": 69,
   "id": "efd47f53-1d21-4b69-926e-74c59d584618",
   "metadata": {},
   "outputs": [],
   "source": [
    "G = nx.Graph() # Crear um grafo non direcionado \n",
    "G.add_nodes_from(df['geneset']) # adicionar nós\n",
    "G.add_nodes_from(df['genesymbol'])\n",
    "edges = [(row['geneset'], row['genesymbol']) for index, row in df.iterrows()] # Definir as arestas\n",
    "G.add_edges_from(edges) # adicionar as arestas\n",
    "# Exportando a rede para melhor visualização no Cytoscape\n",
    "nx.write_gml(G, PATH_INTERIM_DATA + 'ZIKV_POL_vs_CTRL_72hpi_genes' + '.gml')\n",
    "\n",
    "#import matplotlib.pyplot as plt\n",
    "## definir o layout\n",
    "#pos = nx.spring_layout(G)\n",
    "#nx.draw(G, pos, with_labels=True, node_size=300, node_color='skyblue', font_size=10, font_color='black')\n",
    "## Mostrar o grafo\n",
    "#plt.show()"
   ]
  }
 ],
 "metadata": {
  "kernelspec": {
   "display_name": "Python 3 (ipykernel)",
   "language": "python",
   "name": "python3"
  },
  "language_info": {
   "codemirror_mode": {
    "name": "ipython",
    "version": 3
   },
   "file_extension": ".py",
   "mimetype": "text/x-python",
   "name": "python",
   "nbconvert_exporter": "python",
   "pygments_lexer": "ipython3",
   "version": "3.9.12"
  }
 },
 "nbformat": 4,
 "nbformat_minor": 5
}
