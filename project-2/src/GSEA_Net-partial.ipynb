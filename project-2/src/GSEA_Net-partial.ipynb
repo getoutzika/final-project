{
 "cells": [
  {
   "cell_type": "code",
   "execution_count": 1,
   "id": "ad8710c5-bcbb-448c-80a2-44edd84575e9",
   "metadata": {},
   "outputs": [],
   "source": [
    "import pandas as pd"
   ]
  },
  {
   "cell_type": "code",
   "execution_count": 2,
   "id": "c933f2b5-050d-4b22-b404-90dd3621eea3",
   "metadata": {},
   "outputs": [],
   "source": [
    "import gseapy as gp"
   ]
  },
  {
   "cell_type": "code",
   "execution_count": 3,
   "id": "8f3ab7d7-3e70-4aba-8646-ad430d007077",
   "metadata": {},
   "outputs": [],
   "source": [
    "import networkx as nx"
   ]
  },
  {
   "cell_type": "code",
   "execution_count": 4,
   "id": "314b2751-d8fc-45d9-9c4b-3841a3f0a537",
   "metadata": {},
   "outputs": [],
   "source": [
    "from itertools import chain, repeat"
   ]
  },
  {
   "cell_type": "code",
   "execution_count": 5,
   "id": "481a907f-458a-464f-8efb-3156613c2f9c",
   "metadata": {},
   "outputs": [],
   "source": [
    "import math"
   ]
  },
  {
   "cell_type": "markdown",
   "id": "02ff1247-d711-407f-8ca7-692bfb2a7e9e",
   "metadata": {},
   "source": [
    "1.\tRealizar a análise de Enriquecimento usando o método GSEA:"
   ]
  },
  {
   "cell_type": "code",
   "execution_count": 24,
   "id": "dde22a8a",
   "metadata": {},
   "outputs": [],
   "source": [
    "ZIKV_POL_72hpi_vs_CTRL_72hpi = pd.read_csv('../data/raw/ZIKV_POL_72hpi_vs_CTRL_72hpi.tsv', sep='\\t')\n",
    "ZIKV_UGD_72hpi_vs_CTRL_72hpi = pd.read_csv('../data/raw/ZIKV_UGD_72hpi_vs_CTRL_72hpi.tsv', sep='\\t')\n",
    "ZIKV_POL_CTRL_72hpi_all_genes = pd.read_csv('../data/raw/ZIKV_POL_CTRL_72hpi_all_genes.tsv', sep='\\t')"
   ]
  },
  {
   "cell_type": "code",
   "execution_count": 32,
   "id": "33944721",
   "metadata": {},
   "outputs": [
    {
     "name": "stdout",
     "output_type": "stream",
     "text": [
      "(879, 3)\n"
     ]
    },
    {
     "data": {
      "text/html": [
       "<div>\n",
       "<style scoped>\n",
       "    .dataframe tbody tr th:only-of-type {\n",
       "        vertical-align: middle;\n",
       "    }\n",
       "\n",
       "    .dataframe tbody tr th {\n",
       "        vertical-align: top;\n",
       "    }\n",
       "\n",
       "    .dataframe thead th {\n",
       "        text-align: right;\n",
       "    }\n",
       "</style>\n",
       "<table border=\"1\" class=\"dataframe\">\n",
       "  <thead>\n",
       "    <tr style=\"text-align: right;\">\n",
       "      <th></th>\n",
       "      <th>ID</th>\n",
       "      <th>log2FoldChange</th>\n",
       "      <th>-log10(Pvalue)</th>\n",
       "    </tr>\n",
       "  </thead>\n",
       "  <tbody>\n",
       "    <tr>\n",
       "      <th>0</th>\n",
       "      <td>A_19_P00315627</td>\n",
       "      <td>1.352</td>\n",
       "      <td>4.533</td>\n",
       "    </tr>\n",
       "    <tr>\n",
       "      <th>1</th>\n",
       "      <td>A_19_P00315647</td>\n",
       "      <td>1.600</td>\n",
       "      <td>3.886</td>\n",
       "    </tr>\n",
       "    <tr>\n",
       "      <th>2</th>\n",
       "      <td>A_19_P00315804</td>\n",
       "      <td>1.192</td>\n",
       "      <td>4.220</td>\n",
       "    </tr>\n",
       "    <tr>\n",
       "      <th>3</th>\n",
       "      <td>A_19_P00315914</td>\n",
       "      <td>0.576</td>\n",
       "      <td>3.196</td>\n",
       "    </tr>\n",
       "    <tr>\n",
       "      <th>4</th>\n",
       "      <td>A_19_P00317793</td>\n",
       "      <td>0.713</td>\n",
       "      <td>4.049</td>\n",
       "    </tr>\n",
       "  </tbody>\n",
       "</table>\n",
       "</div>"
      ],
      "text/plain": [
       "               ID  log2FoldChange  -log10(Pvalue)\n",
       "0  A_19_P00315627           1.352           4.533\n",
       "1  A_19_P00315647           1.600           3.886\n",
       "2  A_19_P00315804           1.192           4.220\n",
       "3  A_19_P00315914           0.576           3.196\n",
       "4  A_19_P00317793           0.713           4.049"
      ]
     },
     "execution_count": 32,
     "metadata": {},
     "output_type": "execute_result"
    }
   ],
   "source": [
    "ZIKV_POL_72hpi_vs_CTRL_72hpi.rename(columns={\"log2(fold change)\": \"log2FoldChange\"}, inplace=True)\n",
    "print(ZIKV_POL_72hpi_vs_CTRL_72hpi.shape)\n",
    "ZIKV_POL_72hpi_vs_CTRL_72hpi.head()"
   ]
  },
  {
   "cell_type": "code",
   "execution_count": 36,
   "id": "a5ddc360",
   "metadata": {},
   "outputs": [
    {
     "name": "stdout",
     "output_type": "stream",
     "text": [
      "(18905, 3)\n"
     ]
    },
    {
     "data": {
      "text/html": [
       "<div>\n",
       "<style scoped>\n",
       "    .dataframe tbody tr th:only-of-type {\n",
       "        vertical-align: middle;\n",
       "    }\n",
       "\n",
       "    .dataframe tbody tr th {\n",
       "        vertical-align: top;\n",
       "    }\n",
       "\n",
       "    .dataframe thead th {\n",
       "        text-align: right;\n",
       "    }\n",
       "</style>\n",
       "<table border=\"1\" class=\"dataframe\">\n",
       "  <thead>\n",
       "    <tr style=\"text-align: right;\">\n",
       "      <th></th>\n",
       "      <th>ID</th>\n",
       "      <th>log2FoldChange</th>\n",
       "      <th>-log10(Pvalue)</th>\n",
       "    </tr>\n",
       "  </thead>\n",
       "  <tbody>\n",
       "    <tr>\n",
       "      <th>0</th>\n",
       "      <td>(+)E1A_r60_1</td>\n",
       "      <td>0.901</td>\n",
       "      <td>3.889</td>\n",
       "    </tr>\n",
       "    <tr>\n",
       "      <th>1</th>\n",
       "      <td>(+)E1A_r60_a107</td>\n",
       "      <td>0.815</td>\n",
       "      <td>3.263</td>\n",
       "    </tr>\n",
       "    <tr>\n",
       "      <th>2</th>\n",
       "      <td>(+)E1A_r60_a135</td>\n",
       "      <td>1.010</td>\n",
       "      <td>3.449</td>\n",
       "    </tr>\n",
       "    <tr>\n",
       "      <th>3</th>\n",
       "      <td>(+)E1A_r60_a20</td>\n",
       "      <td>0.681</td>\n",
       "      <td>2.770</td>\n",
       "    </tr>\n",
       "    <tr>\n",
       "      <th>4</th>\n",
       "      <td>(+)E1A_r60_a22</td>\n",
       "      <td>0.974</td>\n",
       "      <td>3.528</td>\n",
       "    </tr>\n",
       "  </tbody>\n",
       "</table>\n",
       "</div>"
      ],
      "text/plain": [
       "                ID  log2FoldChange  -log10(Pvalue)\n",
       "0     (+)E1A_r60_1           0.901           3.889\n",
       "1  (+)E1A_r60_a107           0.815           3.263\n",
       "2  (+)E1A_r60_a135           1.010           3.449\n",
       "3   (+)E1A_r60_a20           0.681           2.770\n",
       "4   (+)E1A_r60_a22           0.974           3.528"
      ]
     },
     "execution_count": 36,
     "metadata": {},
     "output_type": "execute_result"
    }
   ],
   "source": [
    "ZIKV_UGD_72hpi_vs_CTRL_72hpi.rename(columns={\"log2(fold change)\": \"log2FoldChange\"}, inplace=True)\n",
    "print(ZIKV_UGD_72hpi_vs_CTRL_72hpi.shape)\n",
    "ZIKV_UGD_72hpi_vs_CTRL_72hpi.head()"
   ]
  },
  {
   "cell_type": "code",
   "execution_count": 35,
   "id": "c56cb7e7",
   "metadata": {},
   "outputs": [
    {
     "name": "stdout",
     "output_type": "stream",
     "text": [
      "(50739, 6)\n"
     ]
    },
    {
     "data": {
      "text/html": [
       "<div>\n",
       "<style scoped>\n",
       "    .dataframe tbody tr th:only-of-type {\n",
       "        vertical-align: middle;\n",
       "    }\n",
       "\n",
       "    .dataframe tbody tr th {\n",
       "        vertical-align: top;\n",
       "    }\n",
       "\n",
       "    .dataframe thead th {\n",
       "        text-align: right;\n",
       "    }\n",
       "</style>\n",
       "<table border=\"1\" class=\"dataframe\">\n",
       "  <thead>\n",
       "    <tr style=\"text-align: right;\">\n",
       "      <th></th>\n",
       "      <th>ID</th>\n",
       "      <th>adj.P.Val</th>\n",
       "      <th>P.Value</th>\n",
       "      <th>F</th>\n",
       "      <th>Gene_name</th>\n",
       "      <th>GO_ID</th>\n",
       "    </tr>\n",
       "  </thead>\n",
       "  <tbody>\n",
       "    <tr>\n",
       "      <th>0</th>\n",
       "      <td>A_33_P3343175</td>\n",
       "      <td>4.050000e-08</td>\n",
       "      <td>7.980000e-13</td>\n",
       "      <td>6310.0</td>\n",
       "      <td>CXCL10</td>\n",
       "      <td>GO:0002690(positive regulation of leukocyte ch...</td>\n",
       "    </tr>\n",
       "    <tr>\n",
       "      <th>1</th>\n",
       "      <td>A_23_P64828</td>\n",
       "      <td>9.880000e-08</td>\n",
       "      <td>5.610000e-12</td>\n",
       "      <td>3750.0</td>\n",
       "      <td>OAS1</td>\n",
       "      <td>GO:0000166(nucleotide binding)|GO:0001730(2'-5...</td>\n",
       "    </tr>\n",
       "    <tr>\n",
       "      <th>2</th>\n",
       "      <td>A_33_P3348872</td>\n",
       "      <td>9.880000e-08</td>\n",
       "      <td>5.840000e-12</td>\n",
       "      <td>3710.0</td>\n",
       "      <td>NaN</td>\n",
       "      <td>NaN</td>\n",
       "    </tr>\n",
       "    <tr>\n",
       "      <th>3</th>\n",
       "      <td>A_24_P303091</td>\n",
       "      <td>2.130000e-07</td>\n",
       "      <td>1.680000e-11</td>\n",
       "      <td>2800.0</td>\n",
       "      <td>CXCL10</td>\n",
       "      <td>GO:0002690(positive regulation of leukocyte ch...</td>\n",
       "    </tr>\n",
       "    <tr>\n",
       "      <th>4</th>\n",
       "      <td>A_23_P68155</td>\n",
       "      <td>3.300000e-07</td>\n",
       "      <td>3.250000e-11</td>\n",
       "      <td>2340.0</td>\n",
       "      <td>IFIH1</td>\n",
       "      <td>GO:0000166(nucleotide binding)|GO:0003677(DNA ...</td>\n",
       "    </tr>\n",
       "  </tbody>\n",
       "</table>\n",
       "</div>"
      ],
      "text/plain": [
       "              ID     adj.P.Val       P.Value       F Gene_name  \\\n",
       "0  A_33_P3343175  4.050000e-08  7.980000e-13  6310.0    CXCL10   \n",
       "1    A_23_P64828  9.880000e-08  5.610000e-12  3750.0      OAS1   \n",
       "2  A_33_P3348872  9.880000e-08  5.840000e-12  3710.0       NaN   \n",
       "3   A_24_P303091  2.130000e-07  1.680000e-11  2800.0    CXCL10   \n",
       "4    A_23_P68155  3.300000e-07  3.250000e-11  2340.0     IFIH1   \n",
       "\n",
       "                                               GO_ID  \n",
       "0  GO:0002690(positive regulation of leukocyte ch...  \n",
       "1  GO:0000166(nucleotide binding)|GO:0001730(2'-5...  \n",
       "2                                                NaN  \n",
       "3  GO:0002690(positive regulation of leukocyte ch...  \n",
       "4  GO:0000166(nucleotide binding)|GO:0003677(DNA ...  "
      ]
     },
     "execution_count": 35,
     "metadata": {},
     "output_type": "execute_result"
    }
   ],
   "source": [
    "ZIKV_POL_CTRL_72hpi_all_genes.rename(columns={\"GENE_SYMBOL\": \"Gene_name\"}, inplace=True)\n",
    "print(ZIKV_POL_CTRL_72hpi_all_genes.shape)\n",
    "ZIKV_POL_CTRL_72hpi_all_genes.head()"
   ]
  },
  {
   "cell_type": "code",
   "execution_count": 37,
   "id": "41cda84a",
   "metadata": {},
   "outputs": [],
   "source": [
    "ZIKV_POL_vs_CTRL_72hpi_genes = pd.merge(ZIKV_POL_72hpi_vs_CTRL_72hpi, ZIKV_POL_CTRL_72hpi_all_genes, on=[\"ID\"])"
   ]
  },
  {
   "cell_type": "code",
   "execution_count": 54,
   "id": "4d69f109",
   "metadata": {},
   "outputs": [
    {
     "data": {
      "text/html": [
       "<div>\n",
       "<style scoped>\n",
       "    .dataframe tbody tr th:only-of-type {\n",
       "        vertical-align: middle;\n",
       "    }\n",
       "\n",
       "    .dataframe tbody tr th {\n",
       "        vertical-align: top;\n",
       "    }\n",
       "\n",
       "    .dataframe thead th {\n",
       "        text-align: right;\n",
       "    }\n",
       "</style>\n",
       "<table border=\"1\" class=\"dataframe\">\n",
       "  <thead>\n",
       "    <tr style=\"text-align: right;\">\n",
       "      <th></th>\n",
       "      <th>Gene_name</th>\n",
       "      <th>log2FoldChange</th>\n",
       "    </tr>\n",
       "  </thead>\n",
       "  <tbody>\n",
       "    <tr>\n",
       "      <th>0</th>\n",
       "      <td>XLOC_l2_015098</td>\n",
       "      <td>1.352</td>\n",
       "    </tr>\n",
       "    <tr>\n",
       "      <th>1</th>\n",
       "      <td>LOC100507165</td>\n",
       "      <td>1.600</td>\n",
       "    </tr>\n",
       "    <tr>\n",
       "      <th>2</th>\n",
       "      <td>FLJ35024</td>\n",
       "      <td>1.192</td>\n",
       "    </tr>\n",
       "    <tr>\n",
       "      <th>3</th>\n",
       "      <td>XLOC_007868</td>\n",
       "      <td>0.576</td>\n",
       "    </tr>\n",
       "    <tr>\n",
       "      <th>4</th>\n",
       "      <td>LOC388796</td>\n",
       "      <td>0.713</td>\n",
       "    </tr>\n",
       "    <tr>\n",
       "      <th>...</th>\n",
       "      <td>...</td>\n",
       "      <td>...</td>\n",
       "    </tr>\n",
       "    <tr>\n",
       "      <th>874</th>\n",
       "      <td>JAK2</td>\n",
       "      <td>0.503</td>\n",
       "    </tr>\n",
       "    <tr>\n",
       "      <th>875</th>\n",
       "      <td>KCNT2</td>\n",
       "      <td>0.861</td>\n",
       "    </tr>\n",
       "    <tr>\n",
       "      <th>876</th>\n",
       "      <td>NaN</td>\n",
       "      <td>1.010</td>\n",
       "    </tr>\n",
       "    <tr>\n",
       "      <th>877</th>\n",
       "      <td>NaN</td>\n",
       "      <td>4.376</td>\n",
       "    </tr>\n",
       "    <tr>\n",
       "      <th>878</th>\n",
       "      <td>NaN</td>\n",
       "      <td>3.200</td>\n",
       "    </tr>\n",
       "  </tbody>\n",
       "</table>\n",
       "<p>879 rows × 2 columns</p>\n",
       "</div>"
      ],
      "text/plain": [
       "          Gene_name  log2FoldChange\n",
       "0    XLOC_l2_015098           1.352\n",
       "1      LOC100507165           1.600\n",
       "2          FLJ35024           1.192\n",
       "3       XLOC_007868           0.576\n",
       "4         LOC388796           0.713\n",
       "..              ...             ...\n",
       "874            JAK2           0.503\n",
       "875           KCNT2           0.861\n",
       "876             NaN           1.010\n",
       "877             NaN           4.376\n",
       "878             NaN           3.200\n",
       "\n",
       "[879 rows x 2 columns]"
      ]
     },
     "execution_count": 54,
     "metadata": {},
     "output_type": "execute_result"
    }
   ],
   "source": [
    "down = ZIKV_POL_vs_CTRL_72hpi_genes[['Gene_name', 'log2FoldChange']]\n",
    "down"
   ]
  },
  {
   "cell_type": "code",
   "execution_count": 9,
   "id": "d5e7933f-af93-4a67-8e89-6336a167e0ce",
   "metadata": {},
   "outputs": [],
   "source": [
    "#down = pd.read_csv(\"Sup-Table-4-List_of_Down_regulated_Erosion_vs_Without-Erosion.csv\")"
   ]
  },
  {
   "cell_type": "code",
   "execution_count": 10,
   "id": "20ff13d3-61b0-4d03-b4ee-ceb5beb067b6",
   "metadata": {
    "scrolled": true
   },
   "outputs": [
    {
     "data": {
      "text/html": [
       "<div>\n",
       "<style scoped>\n",
       "    .dataframe tbody tr th:only-of-type {\n",
       "        vertical-align: middle;\n",
       "    }\n",
       "\n",
       "    .dataframe tbody tr th {\n",
       "        vertical-align: top;\n",
       "    }\n",
       "\n",
       "    .dataframe thead th {\n",
       "        text-align: right;\n",
       "    }\n",
       "</style>\n",
       "<table border=\"1\" class=\"dataframe\">\n",
       "  <thead>\n",
       "    <tr style=\"text-align: right;\">\n",
       "      <th></th>\n",
       "      <th>Ensembl.ID</th>\n",
       "      <th>Gene_name</th>\n",
       "      <th>log2FoldChange</th>\n",
       "      <th>padj</th>\n",
       "    </tr>\n",
       "  </thead>\n",
       "  <tbody>\n",
       "    <tr>\n",
       "      <th>0</th>\n",
       "      <td>ENSG00000131845</td>\n",
       "      <td>ZNF304</td>\n",
       "      <td>-0.585086</td>\n",
       "      <td>0.029046</td>\n",
       "    </tr>\n",
       "    <tr>\n",
       "      <th>1</th>\n",
       "      <td>ENSG00000156502</td>\n",
       "      <td>SUPV3L1</td>\n",
       "      <td>-0.586085</td>\n",
       "      <td>0.001891</td>\n",
       "    </tr>\n",
       "    <tr>\n",
       "      <th>2</th>\n",
       "      <td>ENSG00000154781</td>\n",
       "      <td>CCDC174</td>\n",
       "      <td>-0.588956</td>\n",
       "      <td>0.008869</td>\n",
       "    </tr>\n",
       "    <tr>\n",
       "      <th>3</th>\n",
       "      <td>ENSG00000088038</td>\n",
       "      <td>CNOT3</td>\n",
       "      <td>-0.588963</td>\n",
       "      <td>0.036274</td>\n",
       "    </tr>\n",
       "    <tr>\n",
       "      <th>4</th>\n",
       "      <td>ENSG00000141367</td>\n",
       "      <td>CLTC</td>\n",
       "      <td>-0.590050</td>\n",
       "      <td>0.000862</td>\n",
       "    </tr>\n",
       "  </tbody>\n",
       "</table>\n",
       "</div>"
      ],
      "text/plain": [
       "        Ensembl.ID Gene_name  log2FoldChange      padj\n",
       "0  ENSG00000131845    ZNF304       -0.585086  0.029046\n",
       "1  ENSG00000156502   SUPV3L1       -0.586085  0.001891\n",
       "2  ENSG00000154781   CCDC174       -0.588956  0.008869\n",
       "3  ENSG00000088038     CNOT3       -0.588963  0.036274\n",
       "4  ENSG00000141367      CLTC       -0.590050  0.000862"
      ]
     },
     "execution_count": 10,
     "metadata": {},
     "output_type": "execute_result"
    }
   ],
   "source": [
    "#down.head()"
   ]
  },
  {
   "cell_type": "code",
   "execution_count": 41,
   "id": "bf35b219-4873-4806-997d-c68c5bc746da",
   "metadata": {},
   "outputs": [
    {
     "data": {
      "text/plain": [
       "['ARCHS4_Cell-lines',\n",
       " 'ARCHS4_IDG_Coexp',\n",
       " 'ARCHS4_Kinases_Coexp',\n",
       " 'ARCHS4_TFs_Coexp',\n",
       " 'ARCHS4_Tissues',\n",
       " 'Achilles_fitness_decrease',\n",
       " 'Achilles_fitness_increase',\n",
       " 'Aging_Perturbations_from_GEO_down',\n",
       " 'Aging_Perturbations_from_GEO_up',\n",
       " 'Allen_Brain_Atlas_10x_scRNA_2021']"
      ]
     },
     "execution_count": 41,
     "metadata": {},
     "output_type": "execute_result"
    }
   ],
   "source": [
    "# Podemos ver os \"gene sets\" que estão incluídos no gseapy. Alguns deles não estão atualizados\n",
    "# Portanto, nesta tarefa vamos usar um arquivo gmt baixado do MSigDB (https://www.gsea-msigdb.org/gsea/msigdb/)\n",
    "gp.get_library_name()[:10]"
   ]
  },
  {
   "cell_type": "code",
   "execution_count": 52,
   "id": "56e6bb79-aa79-422e-9364-e71bc33c1179",
   "metadata": {
    "scrolled": true
   },
   "outputs": [
    {
     "data": {
      "text/plain": [
       "(833, 2)"
      ]
     },
     "execution_count": 52,
     "metadata": {},
     "output_type": "execute_result"
    }
   ],
   "source": [
    "#down.iloc[:, 1:3]\n",
    "#down.iloc[350:360,]"
   ]
  },
  {
   "cell_type": "code",
   "execution_count": 56,
   "id": "b1f1079a",
   "metadata": {},
   "outputs": [
    {
     "data": {
      "text/html": [
       "<div>\n",
       "<style scoped>\n",
       "    .dataframe tbody tr th:only-of-type {\n",
       "        vertical-align: middle;\n",
       "    }\n",
       "\n",
       "    .dataframe tbody tr th {\n",
       "        vertical-align: top;\n",
       "    }\n",
       "\n",
       "    .dataframe thead th {\n",
       "        text-align: right;\n",
       "    }\n",
       "</style>\n",
       "<table border=\"1\" class=\"dataframe\">\n",
       "  <thead>\n",
       "    <tr style=\"text-align: right;\">\n",
       "      <th></th>\n",
       "      <th>Gene_name</th>\n",
       "      <th>log2FoldChange</th>\n",
       "    </tr>\n",
       "  </thead>\n",
       "  <tbody>\n",
       "    <tr>\n",
       "      <th>0</th>\n",
       "      <td>XLOC_l2_015098</td>\n",
       "      <td>1.352</td>\n",
       "    </tr>\n",
       "    <tr>\n",
       "      <th>1</th>\n",
       "      <td>LOC100507165</td>\n",
       "      <td>1.600</td>\n",
       "    </tr>\n",
       "    <tr>\n",
       "      <th>2</th>\n",
       "      <td>FLJ35024</td>\n",
       "      <td>1.192</td>\n",
       "    </tr>\n",
       "    <tr>\n",
       "      <th>3</th>\n",
       "      <td>XLOC_007868</td>\n",
       "      <td>0.576</td>\n",
       "    </tr>\n",
       "    <tr>\n",
       "      <th>4</th>\n",
       "      <td>LOC388796</td>\n",
       "      <td>0.713</td>\n",
       "    </tr>\n",
       "    <tr>\n",
       "      <th>...</th>\n",
       "      <td>...</td>\n",
       "      <td>...</td>\n",
       "    </tr>\n",
       "    <tr>\n",
       "      <th>871</th>\n",
       "      <td>LOC338653</td>\n",
       "      <td>0.844</td>\n",
       "    </tr>\n",
       "    <tr>\n",
       "      <th>872</th>\n",
       "      <td>LOC338620</td>\n",
       "      <td>-0.490</td>\n",
       "    </tr>\n",
       "    <tr>\n",
       "      <th>873</th>\n",
       "      <td>DKFZp451B082</td>\n",
       "      <td>1.873</td>\n",
       "    </tr>\n",
       "    <tr>\n",
       "      <th>874</th>\n",
       "      <td>JAK2</td>\n",
       "      <td>0.503</td>\n",
       "    </tr>\n",
       "    <tr>\n",
       "      <th>875</th>\n",
       "      <td>KCNT2</td>\n",
       "      <td>0.861</td>\n",
       "    </tr>\n",
       "  </tbody>\n",
       "</table>\n",
       "<p>833 rows × 2 columns</p>\n",
       "</div>"
      ],
      "text/plain": [
       "          Gene_name  log2FoldChange\n",
       "0    XLOC_l2_015098           1.352\n",
       "1      LOC100507165           1.600\n",
       "2          FLJ35024           1.192\n",
       "3       XLOC_007868           0.576\n",
       "4         LOC388796           0.713\n",
       "..              ...             ...\n",
       "871       LOC338653           0.844\n",
       "872       LOC338620          -0.490\n",
       "873    DKFZp451B082           1.873\n",
       "874            JAK2           0.503\n",
       "875           KCNT2           0.861\n",
       "\n",
       "[833 rows x 2 columns]"
      ]
     },
     "execution_count": 56,
     "metadata": {},
     "output_type": "execute_result"
    }
   ],
   "source": [
    "down = down[~down['Gene_name'].isna()]\n",
    "down"
   ]
  },
  {
   "cell_type": "code",
   "execution_count": 13,
   "id": "07d393af-d94a-4d02-9b9e-6467a71e5292",
   "metadata": {},
   "outputs": [],
   "source": [
    "# Executar a análise de enriquecimento\n",
    "# O Enrichr usa o Fisher exact test\n",
    "#del enrichr_down"
   ]
  },
  {
   "cell_type": "code",
   "execution_count": 57,
   "id": "b91a7a2f-b0eb-4933-bc91-d64a83895493",
   "metadata": {},
   "outputs": [
    {
     "data": {
      "text/html": [
       "<div>\n",
       "<style scoped>\n",
       "    .dataframe tbody tr th:only-of-type {\n",
       "        vertical-align: middle;\n",
       "    }\n",
       "\n",
       "    .dataframe tbody tr th {\n",
       "        vertical-align: top;\n",
       "    }\n",
       "\n",
       "    .dataframe thead th {\n",
       "        text-align: right;\n",
       "    }\n",
       "</style>\n",
       "<table border=\"1\" class=\"dataframe\">\n",
       "  <thead>\n",
       "    <tr style=\"text-align: right;\">\n",
       "      <th></th>\n",
       "      <th>Gene_set</th>\n",
       "      <th>Term</th>\n",
       "      <th>Overlap</th>\n",
       "      <th>P-value</th>\n",
       "      <th>Adjusted P-value</th>\n",
       "      <th>Odds Ratio</th>\n",
       "      <th>Combined Score</th>\n",
       "      <th>Genes</th>\n",
       "    </tr>\n",
       "  </thead>\n",
       "  <tbody>\n",
       "    <tr>\n",
       "      <th>0</th>\n",
       "      <td>gene_sets_GOBP.gmt</td>\n",
       "      <td>GOBP_APICAL_PROTEIN_LOCALIZATION</td>\n",
       "      <td>1/15</td>\n",
       "      <td>0.433386</td>\n",
       "      <td>0.786515</td>\n",
       "      <td>2.682706</td>\n",
       "      <td>2.243082</td>\n",
       "      <td>NAPA</td>\n",
       "    </tr>\n",
       "    <tr>\n",
       "      <th>1</th>\n",
       "      <td>gene_sets_GOBP.gmt</td>\n",
       "      <td>GOBP_APOPTOTIC_CELL_CLEARANCE</td>\n",
       "      <td>2/48</td>\n",
       "      <td>0.537029</td>\n",
       "      <td>0.814757</td>\n",
       "      <td>1.392981</td>\n",
       "      <td>0.866021</td>\n",
       "      <td>TREX1;MARCO</td>\n",
       "    </tr>\n",
       "    <tr>\n",
       "      <th>2</th>\n",
       "      <td>gene_sets_GOBP.gmt</td>\n",
       "      <td>GOBP_APOPTOTIC_MITOCHONDRIAL_CHANGES</td>\n",
       "      <td>9/109</td>\n",
       "      <td>0.019615</td>\n",
       "      <td>0.131064</td>\n",
       "      <td>2.496833</td>\n",
       "      <td>9.816197</td>\n",
       "      <td>IFI6;PMAIP1;TNFSF10;HRK;AIFM2;IFIT2;HIP1R;BCL2...</td>\n",
       "    </tr>\n",
       "    <tr>\n",
       "      <th>3</th>\n",
       "      <td>gene_sets_GOBP.gmt</td>\n",
       "      <td>GOBP_APOPTOTIC_PROCESS</td>\n",
       "      <td>93/1965</td>\n",
       "      <td>0.003533</td>\n",
       "      <td>0.051931</td>\n",
       "      <td>1.451324</td>\n",
       "      <td>8.193719</td>\n",
       "      <td>GADD45B;UBD;UNG;ITGB2;IRF7;CEBPB;IFIT3;CSRNP1;...</td>\n",
       "    </tr>\n",
       "    <tr>\n",
       "      <th>4</th>\n",
       "      <td>gene_sets_GOBP.gmt</td>\n",
       "      <td>GOBP_APOPTOTIC_SIGNALING_PATHWAY</td>\n",
       "      <td>35/622</td>\n",
       "      <td>0.007995</td>\n",
       "      <td>0.097716</td>\n",
       "      <td>1.649364</td>\n",
       "      <td>7.964761</td>\n",
       "      <td>DDIT4;DDIT3;TNFSF10;PML;PPP1R15A;PMAIP1;CTH;CE...</td>\n",
       "    </tr>\n",
       "  </tbody>\n",
       "</table>\n",
       "</div>"
      ],
      "text/plain": [
       "             Gene_set                                  Term  Overlap  \\\n",
       "0  gene_sets_GOBP.gmt      GOBP_APICAL_PROTEIN_LOCALIZATION     1/15   \n",
       "1  gene_sets_GOBP.gmt         GOBP_APOPTOTIC_CELL_CLEARANCE     2/48   \n",
       "2  gene_sets_GOBP.gmt  GOBP_APOPTOTIC_MITOCHONDRIAL_CHANGES    9/109   \n",
       "3  gene_sets_GOBP.gmt                GOBP_APOPTOTIC_PROCESS  93/1965   \n",
       "4  gene_sets_GOBP.gmt      GOBP_APOPTOTIC_SIGNALING_PATHWAY   35/622   \n",
       "\n",
       "    P-value  Adjusted P-value  Odds Ratio  Combined Score  \\\n",
       "0  0.433386          0.786515    2.682706        2.243082   \n",
       "1  0.537029          0.814757    1.392981        0.866021   \n",
       "2  0.019615          0.131064    2.496833        9.816197   \n",
       "3  0.003533          0.051931    1.451324        8.193719   \n",
       "4  0.007995          0.097716    1.649364        7.964761   \n",
       "\n",
       "                                               Genes  \n",
       "0                                               NAPA  \n",
       "1                                        TREX1;MARCO  \n",
       "2  IFI6;PMAIP1;TNFSF10;HRK;AIFM2;IFIT2;HIP1R;BCL2...  \n",
       "3  GADD45B;UBD;UNG;ITGB2;IRF7;CEBPB;IFIT3;CSRNP1;...  \n",
       "4  DDIT4;DDIT3;TNFSF10;PML;PPP1R15A;PMAIP1;CTH;CE...  "
      ]
     },
     "execution_count": 57,
     "metadata": {},
     "output_type": "execute_result"
    }
   ],
   "source": [
    "enr = gp.enrichr(gene_list=down.Gene_name, gene_sets=['gene_sets_GOBP.gmt'], outdir=None) \n",
    "\n",
    "#enr = gp.enrichr(gene_list=down.Gene_name,gene_sets=['Reactome_2022', \"h.all.v2023.2.Hs.symbols.gmt\"], outdir=None) # Para usar a versão do mesmo arquivo gmt do gseapy.get_library_name()\n",
    "\n",
    "#resultado da análise\n",
    "\n",
    "enrichr_down = enr.results\n",
    "\n",
    "enrichr_down.head()\n"
   ]
  },
  {
   "cell_type": "code",
   "execution_count": 58,
   "id": "4e8b3052",
   "metadata": {},
   "outputs": [
    {
     "data": {
      "text/plain": [
       "(147, 8)"
      ]
     },
     "execution_count": 58,
     "metadata": {},
     "output_type": "execute_result"
    }
   ],
   "source": [
    "enrichr_down.shape"
   ]
  },
  {
   "cell_type": "code",
   "execution_count": 60,
   "id": "3fea97bd-9d4b-4dde-93b5-7eb57783b06b",
   "metadata": {
    "scrolled": true
   },
   "outputs": [
    {
     "data": {
      "text/html": [
       "<div>\n",
       "<style scoped>\n",
       "    .dataframe tbody tr th:only-of-type {\n",
       "        vertical-align: middle;\n",
       "    }\n",
       "\n",
       "    .dataframe tbody tr th {\n",
       "        vertical-align: top;\n",
       "    }\n",
       "\n",
       "    .dataframe thead th {\n",
       "        text-align: right;\n",
       "    }\n",
       "</style>\n",
       "<table border=\"1\" class=\"dataframe\">\n",
       "  <thead>\n",
       "    <tr style=\"text-align: right;\">\n",
       "      <th></th>\n",
       "      <th>Gene_set</th>\n",
       "      <th>Term</th>\n",
       "      <th>Overlap</th>\n",
       "      <th>P-value</th>\n",
       "      <th>Adjusted P-value</th>\n",
       "      <th>Odds Ratio</th>\n",
       "      <th>Combined Score</th>\n",
       "      <th>Genes</th>\n",
       "    </tr>\n",
       "  </thead>\n",
       "  <tbody>\n",
       "    <tr>\n",
       "      <th>0</th>\n",
       "      <td>gene_sets_GOBP.gmt</td>\n",
       "      <td>GOBP_INTERFERON_ALPHA_PRODUCTION</td>\n",
       "      <td>6/30</td>\n",
       "      <td>6.922338e-04</td>\n",
       "      <td>0.014537</td>\n",
       "      <td>7.004393</td>\n",
       "      <td>50.961071</td>\n",
       "      <td>IRF7;TLR3;RIPK2;IFIH1;NMI;STAT1</td>\n",
       "    </tr>\n",
       "    <tr>\n",
       "      <th>1</th>\n",
       "      <td>gene_sets_GOBP.gmt</td>\n",
       "      <td>GOBP_POSITIVE_REGULATION_OF_LEUKOCYTE_CELL_CEL...</td>\n",
       "      <td>23/275</td>\n",
       "      <td>2.071916e-04</td>\n",
       "      <td>0.006170</td>\n",
       "      <td>2.543309</td>\n",
       "      <td>21.572008</td>\n",
       "      <td>HLA-E;IGF2;RIPK2;CCL5;IL23A;ITGB2;PRKCQ;XBP1;S...</td>\n",
       "    </tr>\n",
       "    <tr>\n",
       "      <th>2</th>\n",
       "      <td>gene_sets_GOBP.gmt</td>\n",
       "      <td>GOBP_POSITIVE_REGULATION_OF_LEUKOCYTE_MEDIATED...</td>\n",
       "      <td>16/152</td>\n",
       "      <td>1.510228e-04</td>\n",
       "      <td>0.006170</td>\n",
       "      <td>3.266198</td>\n",
       "      <td>28.736273</td>\n",
       "      <td>ITGB2;ULBP1;HLA-B;HLA-E;PMS2;HLA-A;RSAD2;TAP2;...</td>\n",
       "    </tr>\n",
       "    <tr>\n",
       "      <th>3</th>\n",
       "      <td>gene_sets_GOBP.gmt</td>\n",
       "      <td>GOBP_POSITIVE_REGULATION_OF_LEUKOCYTE_PROLIFER...</td>\n",
       "      <td>15/166</td>\n",
       "      <td>1.227453e-03</td>\n",
       "      <td>0.022554</td>\n",
       "      <td>2.747019</td>\n",
       "      <td>18.412760</td>\n",
       "      <td>BST2;HLA-E;HLA-A;PRKCQ;BCL6;IL15;IGF2;RIPK2;CC...</td>\n",
       "    </tr>\n",
       "    <tr>\n",
       "      <th>4</th>\n",
       "      <td>gene_sets_GOBP.gmt</td>\n",
       "      <td>GOBP_POSITIVE_REGULATION_OF_LYMPHOCYTE_ACTIVATION</td>\n",
       "      <td>26/330</td>\n",
       "      <td>2.098637e-04</td>\n",
       "      <td>0.006170</td>\n",
       "      <td>2.389295</td>\n",
       "      <td>20.235065</td>\n",
       "      <td>HLA-E;IGF2;RIPK2;CCL5;IL23A;PRKCQ;XBP1;SOCS1;B...</td>\n",
       "    </tr>\n",
       "    <tr>\n",
       "      <th>5</th>\n",
       "      <td>gene_sets_GOBP.gmt</td>\n",
       "      <td>GOBP_POSITIVE_REGULATION_OF_LYMPHOCYTE_MEDIATE...</td>\n",
       "      <td>14/129</td>\n",
       "      <td>2.839339e-04</td>\n",
       "      <td>0.006956</td>\n",
       "      <td>3.375408</td>\n",
       "      <td>27.566176</td>\n",
       "      <td>ULBP1;HLA-B;HLA-E;PMS2;HLA-A;RSAD2;TAP2;B2M;ZP...</td>\n",
       "    </tr>\n",
       "    <tr>\n",
       "      <th>6</th>\n",
       "      <td>gene_sets_GOBP.gmt</td>\n",
       "      <td>GOBP_POSITIVE_REGULATION_OF_RESPONSE_TO_BIOTIC...</td>\n",
       "      <td>37/373</td>\n",
       "      <td>2.851349e-08</td>\n",
       "      <td>0.000004</td>\n",
       "      <td>3.193575</td>\n",
       "      <td>55.481627</td>\n",
       "      <td>OASL;HLA-E;IRF1;IFI35;RIPK2;CCL5;TRIM56;COLEC1...</td>\n",
       "    </tr>\n",
       "    <tr>\n",
       "      <th>7</th>\n",
       "      <td>gene_sets_GOBP.gmt</td>\n",
       "      <td>GOBP_POSITIVE_REGULATION_OF_RESPONSE_TO_EXTERN...</td>\n",
       "      <td>46/623</td>\n",
       "      <td>3.595138e-06</td>\n",
       "      <td>0.000264</td>\n",
       "      <td>2.313767</td>\n",
       "      <td>29.005223</td>\n",
       "      <td>OASL;HLA-E;IRF1;IFI35;OPTN;RIPK2;CCL5;IL23A;TR...</td>\n",
       "    </tr>\n",
       "  </tbody>\n",
       "</table>\n",
       "</div>"
      ],
      "text/plain": [
       "             Gene_set                                               Term  \\\n",
       "0  gene_sets_GOBP.gmt                   GOBP_INTERFERON_ALPHA_PRODUCTION   \n",
       "1  gene_sets_GOBP.gmt  GOBP_POSITIVE_REGULATION_OF_LEUKOCYTE_CELL_CEL...   \n",
       "2  gene_sets_GOBP.gmt  GOBP_POSITIVE_REGULATION_OF_LEUKOCYTE_MEDIATED...   \n",
       "3  gene_sets_GOBP.gmt  GOBP_POSITIVE_REGULATION_OF_LEUKOCYTE_PROLIFER...   \n",
       "4  gene_sets_GOBP.gmt  GOBP_POSITIVE_REGULATION_OF_LYMPHOCYTE_ACTIVATION   \n",
       "5  gene_sets_GOBP.gmt  GOBP_POSITIVE_REGULATION_OF_LYMPHOCYTE_MEDIATE...   \n",
       "6  gene_sets_GOBP.gmt  GOBP_POSITIVE_REGULATION_OF_RESPONSE_TO_BIOTIC...   \n",
       "7  gene_sets_GOBP.gmt  GOBP_POSITIVE_REGULATION_OF_RESPONSE_TO_EXTERN...   \n",
       "\n",
       "  Overlap       P-value  Adjusted P-value  Odds Ratio  Combined Score  \\\n",
       "0    6/30  6.922338e-04          0.014537    7.004393       50.961071   \n",
       "1  23/275  2.071916e-04          0.006170    2.543309       21.572008   \n",
       "2  16/152  1.510228e-04          0.006170    3.266198       28.736273   \n",
       "3  15/166  1.227453e-03          0.022554    2.747019       18.412760   \n",
       "4  26/330  2.098637e-04          0.006170    2.389295       20.235065   \n",
       "5  14/129  2.839339e-04          0.006956    3.375408       27.566176   \n",
       "6  37/373  2.851349e-08          0.000004    3.193575       55.481627   \n",
       "7  46/623  3.595138e-06          0.000264    2.313767       29.005223   \n",
       "\n",
       "                                               Genes  \n",
       "0                    IRF7;TLR3;RIPK2;IFIH1;NMI;STAT1  \n",
       "1  HLA-E;IGF2;RIPK2;CCL5;IL23A;ITGB2;PRKCQ;XBP1;S...  \n",
       "2  ITGB2;ULBP1;HLA-B;HLA-E;PMS2;HLA-A;RSAD2;TAP2;...  \n",
       "3  BST2;HLA-E;HLA-A;PRKCQ;BCL6;IL15;IGF2;RIPK2;CC...  \n",
       "4  HLA-E;IGF2;RIPK2;CCL5;IL23A;PRKCQ;XBP1;SOCS1;B...  \n",
       "5  ULBP1;HLA-B;HLA-E;PMS2;HLA-A;RSAD2;TAP2;B2M;ZP...  \n",
       "6  OASL;HLA-E;IRF1;IFI35;RIPK2;CCL5;TRIM56;COLEC1...  \n",
       "7  OASL;HLA-E;IRF1;IFI35;OPTN;RIPK2;CCL5;IL23A;TR...  "
      ]
     },
     "execution_count": 60,
     "metadata": {},
     "output_type": "execute_result"
    }
   ],
   "source": [
    "# somente os resultados estatisticamente significativos\n",
    "enrichr_down = enrichr_down[enrichr_down[\"Adjusted P-value\"]<0.05]\n",
    "\n",
    "enrichr_down.reset_index(drop=True, inplace=True)\n",
    "enrichr_down"
   ]
  },
  {
   "cell_type": "code",
   "execution_count": 62,
   "id": "4749d6d3",
   "metadata": {},
   "outputs": [
    {
     "data": {
      "text/plain": [
       "(8, 8)"
      ]
     },
     "execution_count": 62,
     "metadata": {},
     "output_type": "execute_result"
    }
   ],
   "source": [
    "enrichr_down.shape"
   ]
  },
  {
   "cell_type": "code",
   "execution_count": 63,
   "id": "02162ba2-0fbb-4b95-9bc9-c9b5d80084c0",
   "metadata": {},
   "outputs": [
    {
     "data": {
      "text/plain": [
       "pandas.core.frame.DataFrame"
      ]
     },
     "execution_count": 63,
     "metadata": {},
     "output_type": "execute_result"
    }
   ],
   "source": [
    "type(enrichr_down)"
   ]
  },
  {
   "cell_type": "code",
   "execution_count": 64,
   "id": "8629a329-79ae-4c53-9a06-cd98bbebbe52",
   "metadata": {},
   "outputs": [
    {
     "data": {
      "text/html": [
       "<div>\n",
       "<style scoped>\n",
       "    .dataframe tbody tr th:only-of-type {\n",
       "        vertical-align: middle;\n",
       "    }\n",
       "\n",
       "    .dataframe tbody tr th {\n",
       "        vertical-align: top;\n",
       "    }\n",
       "\n",
       "    .dataframe thead th {\n",
       "        text-align: right;\n",
       "    }\n",
       "</style>\n",
       "<table border=\"1\" class=\"dataframe\">\n",
       "  <thead>\n",
       "    <tr style=\"text-align: right;\">\n",
       "      <th></th>\n",
       "      <th>Gene_set</th>\n",
       "      <th>Term</th>\n",
       "      <th>Overlap</th>\n",
       "      <th>P-value</th>\n",
       "      <th>Adjusted P-value</th>\n",
       "      <th>Odds Ratio</th>\n",
       "      <th>Combined Score</th>\n",
       "      <th>Genes</th>\n",
       "    </tr>\n",
       "  </thead>\n",
       "  <tbody>\n",
       "    <tr>\n",
       "      <th>0</th>\n",
       "      <td>gene sets GOBP.gmt</td>\n",
       "      <td>INTERFERON ALPHA PRODUCTION</td>\n",
       "      <td>6/30</td>\n",
       "      <td>6.922338e-04</td>\n",
       "      <td>0.014537</td>\n",
       "      <td>7.004393</td>\n",
       "      <td>50.961071</td>\n",
       "      <td>IRF7;TLR3;RIPK2;IFIH1;NMI;STAT1</td>\n",
       "    </tr>\n",
       "    <tr>\n",
       "      <th>1</th>\n",
       "      <td>gene sets GOBP.gmt</td>\n",
       "      <td>POSITIVE REGULATION OF LEUKOCYTE CELL CELL ADH...</td>\n",
       "      <td>23/275</td>\n",
       "      <td>2.071916e-04</td>\n",
       "      <td>0.006170</td>\n",
       "      <td>2.543309</td>\n",
       "      <td>21.572008</td>\n",
       "      <td>HLA-E;IGF2;RIPK2;CCL5;IL23A;ITGB2;PRKCQ;XBP1;S...</td>\n",
       "    </tr>\n",
       "    <tr>\n",
       "      <th>2</th>\n",
       "      <td>gene sets GOBP.gmt</td>\n",
       "      <td>POSITIVE REGULATION OF LEUKOCYTE MEDIATED IMMU...</td>\n",
       "      <td>16/152</td>\n",
       "      <td>1.510228e-04</td>\n",
       "      <td>0.006170</td>\n",
       "      <td>3.266198</td>\n",
       "      <td>28.736273</td>\n",
       "      <td>ITGB2;ULBP1;HLA-B;HLA-E;PMS2;HLA-A;RSAD2;TAP2;...</td>\n",
       "    </tr>\n",
       "    <tr>\n",
       "      <th>3</th>\n",
       "      <td>gene sets GOBP.gmt</td>\n",
       "      <td>POSITIVE REGULATION OF LEUKOCYTE PROLIFERATION</td>\n",
       "      <td>15/166</td>\n",
       "      <td>1.227453e-03</td>\n",
       "      <td>0.022554</td>\n",
       "      <td>2.747019</td>\n",
       "      <td>18.412760</td>\n",
       "      <td>BST2;HLA-E;HLA-A;PRKCQ;BCL6;IL15;IGF2;RIPK2;CC...</td>\n",
       "    </tr>\n",
       "    <tr>\n",
       "      <th>4</th>\n",
       "      <td>gene sets GOBP.gmt</td>\n",
       "      <td>POSITIVE REGULATION OF LYMPHOCYTE ACTIVATION</td>\n",
       "      <td>26/330</td>\n",
       "      <td>2.098637e-04</td>\n",
       "      <td>0.006170</td>\n",
       "      <td>2.389295</td>\n",
       "      <td>20.235065</td>\n",
       "      <td>HLA-E;IGF2;RIPK2;CCL5;IL23A;PRKCQ;XBP1;SOCS1;B...</td>\n",
       "    </tr>\n",
       "    <tr>\n",
       "      <th>5</th>\n",
       "      <td>gene sets GOBP.gmt</td>\n",
       "      <td>POSITIVE REGULATION OF LYMPHOCYTE MEDIATED IMM...</td>\n",
       "      <td>14/129</td>\n",
       "      <td>2.839339e-04</td>\n",
       "      <td>0.006956</td>\n",
       "      <td>3.375408</td>\n",
       "      <td>27.566176</td>\n",
       "      <td>ULBP1;HLA-B;HLA-E;PMS2;HLA-A;RSAD2;TAP2;B2M;ZP...</td>\n",
       "    </tr>\n",
       "    <tr>\n",
       "      <th>6</th>\n",
       "      <td>gene sets GOBP.gmt</td>\n",
       "      <td>POSITIVE REGULATION OF RESPONSE TO BIOTIC STIM...</td>\n",
       "      <td>37/373</td>\n",
       "      <td>2.851349e-08</td>\n",
       "      <td>0.000004</td>\n",
       "      <td>3.193575</td>\n",
       "      <td>55.481627</td>\n",
       "      <td>OASL;HLA-E;IRF1;IFI35;RIPK2;CCL5;TRIM56;COLEC1...</td>\n",
       "    </tr>\n",
       "    <tr>\n",
       "      <th>7</th>\n",
       "      <td>gene sets GOBP.gmt</td>\n",
       "      <td>POSITIVE REGULATION OF RESPONSE TO EXTERNAL ST...</td>\n",
       "      <td>46/623</td>\n",
       "      <td>3.595138e-06</td>\n",
       "      <td>0.000264</td>\n",
       "      <td>2.313767</td>\n",
       "      <td>29.005223</td>\n",
       "      <td>OASL;HLA-E;IRF1;IFI35;OPTN;RIPK2;CCL5;IL23A;TR...</td>\n",
       "    </tr>\n",
       "  </tbody>\n",
       "</table>\n",
       "</div>"
      ],
      "text/plain": [
       "             Gene_set                                               Term  \\\n",
       "0  gene sets GOBP.gmt                        INTERFERON ALPHA PRODUCTION   \n",
       "1  gene sets GOBP.gmt  POSITIVE REGULATION OF LEUKOCYTE CELL CELL ADH...   \n",
       "2  gene sets GOBP.gmt  POSITIVE REGULATION OF LEUKOCYTE MEDIATED IMMU...   \n",
       "3  gene sets GOBP.gmt     POSITIVE REGULATION OF LEUKOCYTE PROLIFERATION   \n",
       "4  gene sets GOBP.gmt       POSITIVE REGULATION OF LYMPHOCYTE ACTIVATION   \n",
       "5  gene sets GOBP.gmt  POSITIVE REGULATION OF LYMPHOCYTE MEDIATED IMM...   \n",
       "6  gene sets GOBP.gmt  POSITIVE REGULATION OF RESPONSE TO BIOTIC STIM...   \n",
       "7  gene sets GOBP.gmt  POSITIVE REGULATION OF RESPONSE TO EXTERNAL ST...   \n",
       "\n",
       "  Overlap       P-value  Adjusted P-value  Odds Ratio  Combined Score  \\\n",
       "0    6/30  6.922338e-04          0.014537    7.004393       50.961071   \n",
       "1  23/275  2.071916e-04          0.006170    2.543309       21.572008   \n",
       "2  16/152  1.510228e-04          0.006170    3.266198       28.736273   \n",
       "3  15/166  1.227453e-03          0.022554    2.747019       18.412760   \n",
       "4  26/330  2.098637e-04          0.006170    2.389295       20.235065   \n",
       "5  14/129  2.839339e-04          0.006956    3.375408       27.566176   \n",
       "6  37/373  2.851349e-08          0.000004    3.193575       55.481627   \n",
       "7  46/623  3.595138e-06          0.000264    2.313767       29.005223   \n",
       "\n",
       "                                               Genes  \n",
       "0                    IRF7;TLR3;RIPK2;IFIH1;NMI;STAT1  \n",
       "1  HLA-E;IGF2;RIPK2;CCL5;IL23A;ITGB2;PRKCQ;XBP1;S...  \n",
       "2  ITGB2;ULBP1;HLA-B;HLA-E;PMS2;HLA-A;RSAD2;TAP2;...  \n",
       "3  BST2;HLA-E;HLA-A;PRKCQ;BCL6;IL15;IGF2;RIPK2;CC...  \n",
       "4  HLA-E;IGF2;RIPK2;CCL5;IL23A;PRKCQ;XBP1;SOCS1;B...  \n",
       "5  ULBP1;HLA-B;HLA-E;PMS2;HLA-A;RSAD2;TAP2;B2M;ZP...  \n",
       "6  OASL;HLA-E;IRF1;IFI35;RIPK2;CCL5;TRIM56;COLEC1...  \n",
       "7  OASL;HLA-E;IRF1;IFI35;OPTN;RIPK2;CCL5;IL23A;TR...  "
      ]
     },
     "execution_count": 64,
     "metadata": {},
     "output_type": "execute_result"
    }
   ],
   "source": [
    "pd.options.mode.chained_assignment = None # disable the warning\n",
    "enrichr_down.replace('GOBP_', '', regex=True, inplace=True)\n",
    "enrichr_down.replace('_', ' ', regex=True, inplace=True)\n",
    "enrichr_down"
   ]
  },
  {
   "cell_type": "code",
   "execution_count": 65,
   "id": "f6061a68-ba35-44bb-906e-6457fc79e65a",
   "metadata": {},
   "outputs": [],
   "source": [
    "# A coluna Genes indica os genes associados com as vias\n",
    "# Vamos passar essa informação para um DataFrame com duas colunas (uma via ==> um gene)\n",
    "\n",
    "pathways = {}"
   ]
  },
  {
   "cell_type": "code",
   "execution_count": 66,
   "id": "0349fbb6-932d-44cb-be23-950d15bced6a",
   "metadata": {},
   "outputs": [],
   "source": [
    "for ind in enrichr_down.index:\n",
    "    \n",
    "    path = enrichr_down.iloc[ind, 1]\n",
    "    genes = enrichr_down.loc[ind, \"Genes\"]\n",
    "\n",
    "    genes = genes.strip().split(\";\")\n",
    "\n",
    "    pathways[path] = genes\n",
    "\n",
    "    #if len(genes) < 5:\n",
    "        \n",
    "        #break\n",
    "    #else:\n",
    "        #pathways[path] = genes\n",
    "\n",
    "    df = pd.DataFrame.from_records(\n",
    "        chain.from_iterable(zip(repeat(k), v) for k, v in pathways.items()),\n",
    "        columns=[\"geneset\", \"genesymbol\"],\n",
    "    )    "
   ]
  },
  {
   "cell_type": "code",
   "execution_count": 67,
   "id": "94568431-efd6-4ce2-954f-06e22a8f39ef",
   "metadata": {},
   "outputs": [
    {
     "data": {
      "text/html": [
       "<div>\n",
       "<style scoped>\n",
       "    .dataframe tbody tr th:only-of-type {\n",
       "        vertical-align: middle;\n",
       "    }\n",
       "\n",
       "    .dataframe tbody tr th {\n",
       "        vertical-align: top;\n",
       "    }\n",
       "\n",
       "    .dataframe thead th {\n",
       "        text-align: right;\n",
       "    }\n",
       "</style>\n",
       "<table border=\"1\" class=\"dataframe\">\n",
       "  <thead>\n",
       "    <tr style=\"text-align: right;\">\n",
       "      <th></th>\n",
       "      <th>geneset</th>\n",
       "      <th>genesymbol</th>\n",
       "    </tr>\n",
       "  </thead>\n",
       "  <tbody>\n",
       "    <tr>\n",
       "      <th>0</th>\n",
       "      <td>INTERFERON ALPHA PRODUCTION</td>\n",
       "      <td>IRF7</td>\n",
       "    </tr>\n",
       "    <tr>\n",
       "      <th>1</th>\n",
       "      <td>INTERFERON ALPHA PRODUCTION</td>\n",
       "      <td>TLR3</td>\n",
       "    </tr>\n",
       "    <tr>\n",
       "      <th>2</th>\n",
       "      <td>INTERFERON ALPHA PRODUCTION</td>\n",
       "      <td>RIPK2</td>\n",
       "    </tr>\n",
       "    <tr>\n",
       "      <th>3</th>\n",
       "      <td>INTERFERON ALPHA PRODUCTION</td>\n",
       "      <td>IFIH1</td>\n",
       "    </tr>\n",
       "    <tr>\n",
       "      <th>4</th>\n",
       "      <td>INTERFERON ALPHA PRODUCTION</td>\n",
       "      <td>NMI</td>\n",
       "    </tr>\n",
       "  </tbody>\n",
       "</table>\n",
       "</div>"
      ],
      "text/plain": [
       "                       geneset genesymbol\n",
       "0  INTERFERON ALPHA PRODUCTION       IRF7\n",
       "1  INTERFERON ALPHA PRODUCTION       TLR3\n",
       "2  INTERFERON ALPHA PRODUCTION      RIPK2\n",
       "3  INTERFERON ALPHA PRODUCTION      IFIH1\n",
       "4  INTERFERON ALPHA PRODUCTION        NMI"
      ]
     },
     "execution_count": 67,
     "metadata": {},
     "output_type": "execute_result"
    }
   ],
   "source": [
    "df.head()"
   ]
  },
  {
   "cell_type": "code",
   "execution_count": 68,
   "id": "22d6bca7",
   "metadata": {},
   "outputs": [
    {
     "data": {
      "text/plain": [
       "(183, 2)"
      ]
     },
     "execution_count": 68,
     "metadata": {},
     "output_type": "execute_result"
    }
   ],
   "source": [
    "df.shape"
   ]
  },
  {
   "cell_type": "markdown",
   "id": "15120ea2-05f3-42a4-9bce-79674751f38a",
   "metadata": {},
   "source": [
    "2. rede das vias enriquecidas"
   ]
  },
  {
   "cell_type": "code",
   "execution_count": 69,
   "id": "efd47f53-1d21-4b69-926e-74c59d584618",
   "metadata": {},
   "outputs": [],
   "source": [
    "G = nx.Graph() # Crear um grafo non direcionado "
   ]
  },
  {
   "cell_type": "code",
   "execution_count": 70,
   "id": "4a9840e4-e398-4092-9278-815a9dc69852",
   "metadata": {},
   "outputs": [],
   "source": [
    "# adicionar nós\n",
    "G.add_nodes_from(df['geneset'])"
   ]
  },
  {
   "cell_type": "code",
   "execution_count": 71,
   "id": "e5dcdfee-a06c-43e6-8b88-735c3be361b5",
   "metadata": {},
   "outputs": [],
   "source": [
    "G.add_nodes_from(df['genesymbol'])"
   ]
  },
  {
   "cell_type": "code",
   "execution_count": 72,
   "id": "4cb65204-521a-4f36-9580-7402224ad820",
   "metadata": {},
   "outputs": [],
   "source": [
    "# Definir as arestas\n",
    "edges = [(row['geneset'], row['genesymbol']) for index, row in df.iterrows()]"
   ]
  },
  {
   "cell_type": "code",
   "execution_count": 73,
   "id": "598325a8-c5e3-41d4-99d6-301d739343ec",
   "metadata": {},
   "outputs": [
    {
     "data": {
      "text/plain": [
       "[('INTERFERON ALPHA PRODUCTION', 'IRF7'),\n",
       " ('INTERFERON ALPHA PRODUCTION', 'TLR3'),\n",
       " ('INTERFERON ALPHA PRODUCTION', 'RIPK2'),\n",
       " ('INTERFERON ALPHA PRODUCTION', 'IFIH1'),\n",
       " ('INTERFERON ALPHA PRODUCTION', 'NMI'),\n",
       " ('INTERFERON ALPHA PRODUCTION', 'STAT1'),\n",
       " ('POSITIVE REGULATION OF LEUKOCYTE CELL CELL ADHESION', 'HLA-E'),\n",
       " ('POSITIVE REGULATION OF LEUKOCYTE CELL CELL ADHESION', 'IGF2'),\n",
       " ('POSITIVE REGULATION OF LEUKOCYTE CELL CELL ADHESION', 'RIPK2'),\n",
       " ('POSITIVE REGULATION OF LEUKOCYTE CELL CELL ADHESION', 'CCL5'),\n",
       " ('POSITIVE REGULATION OF LEUKOCYTE CELL CELL ADHESION', 'IL23A'),\n",
       " ('POSITIVE REGULATION OF LEUKOCYTE CELL CELL ADHESION', 'ITGB2'),\n",
       " ('POSITIVE REGULATION OF LEUKOCYTE CELL CELL ADHESION', 'PRKCQ'),\n",
       " ('POSITIVE REGULATION OF LEUKOCYTE CELL CELL ADHESION', 'XBP1'),\n",
       " ('POSITIVE REGULATION OF LEUKOCYTE CELL CELL ADHESION', 'SOCS1'),\n",
       " ('POSITIVE REGULATION OF LEUKOCYTE CELL CELL ADHESION', 'B2M'),\n",
       " ('POSITIVE REGULATION OF LEUKOCYTE CELL CELL ADHESION', 'CORO1A'),\n",
       " ('POSITIVE REGULATION OF LEUKOCYTE CELL CELL ADHESION', 'JAK2'),\n",
       " ('POSITIVE REGULATION OF LEUKOCYTE CELL CELL ADHESION', 'CAV1'),\n",
       " ('POSITIVE REGULATION OF LEUKOCYTE CELL CELL ADHESION', 'DUSP10')]"
      ]
     },
     "execution_count": 73,
     "metadata": {},
     "output_type": "execute_result"
    }
   ],
   "source": [
    "edges[:20]"
   ]
  },
  {
   "cell_type": "code",
   "execution_count": 74,
   "id": "0d349141-941e-4622-9aca-35e29f80a978",
   "metadata": {},
   "outputs": [],
   "source": [
    "#adicionar as arestas\n",
    "G.add_edges_from(edges)"
   ]
  },
  {
   "cell_type": "code",
   "execution_count": 75,
   "id": "6bfae986-4e8c-418c-b8bc-c7bd5384e41a",
   "metadata": {},
   "outputs": [
    {
     "data": {
      "image/png": "[encoded data removed]",
      "text/plain": [
       "<Figure size 640x480 with 1 Axes>"
      ]
     },
     "metadata": {},
     "output_type": "display_data"
    }
   ],
   "source": [
    "import matplotlib.pyplot as plt\n",
    "# definir o layout\n",
    "pos = nx.spring_layout(G)\n",
    "nx.draw(G, pos, with_labels=True, node_size=300, node_color='skyblue', font_size=10, font_color='black')\n",
    "# Mostrar o grafo\n",
    "plt.show()"
   ]
  },
  {
   "cell_type": "code",
   "execution_count": 76,
   "id": "38fef104-52e8-4800-a026-78fe11eed9d1",
   "metadata": {},
   "outputs": [],
   "source": [
    "# Vamos exportar para melhor visualização no cytoscape"
   ]
  },
  {
   "cell_type": "code",
   "execution_count": 79,
   "id": "9d0ebe3f-f7fb-4753-9247-af6e001e4d07",
   "metadata": {},
   "outputs": [],
   "source": [
    "nx.write_gml(G, \"../data/processed/ZIKV_POL_vs_CTRL_72hpi_genes.gml\")"
   ]
  }
 ],
 "metadata": {
  "kernelspec": {
   "display_name": "Python 3 (ipykernel)",
   "language": "python",
   "name": "python3"
  },
  "language_info": {
   "codemirror_mode": {
    "name": "ipython",
    "version": 3
   },
   "file_extension": ".py",
   "mimetype": "text/x-python",
   "name": "python",
   "nbconvert_exporter": "python",
   "pygments_lexer": "ipython3",
   "version": "3.9.12"
  }
 },
 "nbformat": 4,
 "nbformat_minor": 5
}
